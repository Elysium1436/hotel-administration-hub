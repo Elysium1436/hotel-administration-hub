{
 "cells": [
  {
   "cell_type": "code",
   "execution_count": 3,
   "source": [
    "from enum import Enum\n",
    "class Permission(Enum):\n",
    "\tUSERNAME='USERVALUE'\n",
    "\tEMAILNAME='EMAILVALUE'\n",
    "\n",
    "p = Permission['USERNAME']"
   ],
   "outputs": [],
   "metadata": {}
  },
  {
   "cell_type": "code",
   "execution_count": 4,
   "source": [],
   "outputs": [
    {
     "output_type": "error",
     "ename": "TypeError",
     "evalue": "unsupported operand type(s) for 'in': 'str' and 'EnumMeta'",
     "traceback": [
      "\u001b[0;31m---------------------------------------------------------------------------\u001b[0m",
      "\u001b[0;31mTypeError\u001b[0m                                 Traceback (most recent call last)",
      "\u001b[0;32m/tmp/ipykernel_27468/1091983464.py\u001b[0m in \u001b[0;36m<module>\u001b[0;34m\u001b[0m\n\u001b[0;32m----> 1\u001b[0;31m \u001b[0;34m'USERNAME'\u001b[0m \u001b[0;32min\u001b[0m \u001b[0mPermission\u001b[0m\u001b[0;34m\u001b[0m\u001b[0;34m\u001b[0m\u001b[0m\n\u001b[0m",
      "\u001b[0;32m/usr/lib/python3.8/enum.py\u001b[0m in \u001b[0;36m__contains__\u001b[0;34m(cls, member)\u001b[0m\n\u001b[1;32m    350\u001b[0m     \u001b[0;32mdef\u001b[0m \u001b[0m__contains__\u001b[0m\u001b[0;34m(\u001b[0m\u001b[0mcls\u001b[0m\u001b[0;34m,\u001b[0m \u001b[0mmember\u001b[0m\u001b[0;34m)\u001b[0m\u001b[0;34m:\u001b[0m\u001b[0;34m\u001b[0m\u001b[0;34m\u001b[0m\u001b[0m\n\u001b[1;32m    351\u001b[0m         \u001b[0;32mif\u001b[0m \u001b[0;32mnot\u001b[0m \u001b[0misinstance\u001b[0m\u001b[0;34m(\u001b[0m\u001b[0mmember\u001b[0m\u001b[0;34m,\u001b[0m \u001b[0mEnum\u001b[0m\u001b[0;34m)\u001b[0m\u001b[0;34m:\u001b[0m\u001b[0;34m\u001b[0m\u001b[0;34m\u001b[0m\u001b[0m\n\u001b[0;32m--> 352\u001b[0;31m             raise TypeError(\n\u001b[0m\u001b[1;32m    353\u001b[0m                 \"unsupported operand type(s) for 'in': '%s' and '%s'\" % (\n\u001b[1;32m    354\u001b[0m                     type(member).__qualname__, cls.__class__.__qualname__))\n",
      "\u001b[0;31mTypeError\u001b[0m: unsupported operand type(s) for 'in': 'str' and 'EnumMeta'"
     ]
    }
   ],
   "metadata": {}
  },
  {
   "cell_type": "code",
   "execution_count": null,
   "source": [],
   "outputs": [],
   "metadata": {}
  }
 ],
 "metadata": {
  "orig_nbformat": 4,
  "language_info": {
   "name": "python",
   "version": "3.8.10",
   "mimetype": "text/x-python",
   "codemirror_mode": {
    "name": "ipython",
    "version": 3
   },
   "pygments_lexer": "ipython3",
   "nbconvert_exporter": "python",
   "file_extension": ".py"
  },
  "kernelspec": {
   "name": "python3",
   "display_name": "Python 3.8.10 64-bit ('venv': venv)"
  },
  "interpreter": {
   "hash": "16cebfa8ef78cbd1f5c92b893c13315c2aba55f850ac59bb5ff2db1ab75de989"
  }
 },
 "nbformat": 4,
 "nbformat_minor": 2
}